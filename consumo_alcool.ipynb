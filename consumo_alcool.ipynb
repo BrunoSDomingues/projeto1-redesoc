{
 "cells": [
  {
   "cell_type": "code",
   "execution_count": 1,
   "id": "educational-comparative",
   "metadata": {},
   "outputs": [],
   "source": [
    "import pandas as pd\n",
    "import statsmodels.api as sm"
   ]
  },
  {
   "cell_type": "code",
   "execution_count": 2,
   "id": "dense-mission",
   "metadata": {},
   "outputs": [],
   "source": [
    "mat = pd.read_csv(\"student-mat.csv\")\n",
    "port = pd.read_csv(\"student-por.csv\")"
   ]
  },
  {
   "cell_type": "code",
   "execution_count": 3,
   "id": "civil-verification",
   "metadata": {},
   "outputs": [],
   "source": [
    "# Misturando os datasets para obter todos os alunos\n",
    "data = pd.concat([mat, port]).drop_duplicates().reset_index(drop=True)"
   ]
  },
  {
   "cell_type": "code",
   "execution_count": 4,
   "id": "configured-coverage",
   "metadata": {},
   "outputs": [
    {
     "data": {
      "text/plain": [
       "Index(['school', 'sex', 'age', 'address', 'famsize', 'Pstatus', 'Medu', 'Fedu',\n",
       "       'Mjob', 'Fjob', 'reason', 'guardian', 'traveltime', 'studytime',\n",
       "       'failures', 'schoolsup', 'famsup', 'paid', 'activities', 'nursery',\n",
       "       'higher', 'internet', 'romantic', 'famrel', 'freetime', 'goout', 'Dalc',\n",
       "       'Walc', 'health', 'absences', 'G1', 'G2', 'G3'],\n",
       "      dtype='object')"
      ]
     },
     "execution_count": 4,
     "metadata": {},
     "output_type": "execute_result"
    }
   ],
   "source": [
    "# Colunas do dataset\n",
    "data.columns"
   ]
  },
  {
   "cell_type": "code",
   "execution_count": 5,
   "id": "occupational-steps",
   "metadata": {},
   "outputs": [],
   "source": [
    "# Removendo colunas que não serão utilizadas\n",
    "data = data.drop(\n",
    "    [\"school\", \"address\", \"famsize\", \n",
    "     \"Pstatus\", \"Medu\", \"Fedu\", \n",
    "     \"Mjob\", \"Fjob\", \"reason\", \n",
    "     \"guardian\", \"traveltime\", \"studytime\", \n",
    "     \"failures\", \"schoolsup\", \"famsup\", \n",
    "     \"paid\", \"activities\", \"nursery\", \n",
    "     \"higher\", \"internet\", \"romantic\", \n",
    "     \"freetime\", \"goout\", \"health\", \"absences\", \n",
    "     \"G1\", \"G2\", \"G3\"\n",
    "    ], \n",
    "    axis=1)"
   ]
  },
  {
   "cell_type": "code",
   "execution_count": 6,
   "id": "monthly-arnold",
   "metadata": {},
   "outputs": [],
   "source": [
    "# Trocando valores binários de genero para 0/1\n",
    "data.sex.replace(['M', 'F'], [0, 1], inplace=True)"
   ]
  },
  {
   "cell_type": "code",
   "execution_count": 7,
   "id": "collect-chapter",
   "metadata": {},
   "outputs": [],
   "source": [
    "# Criando a coluna para o consumo de álcool\n",
    "data[\"alcool\"] = (data[\"Dalc\"] * 5 + data[\"Walc\"] * 2)/7"
   ]
  },
  {
   "cell_type": "code",
   "execution_count": 8,
   "id": "corporate-cologne",
   "metadata": {},
   "outputs": [
    {
     "data": {
      "text/plain": [
       "Index(['sex', 'age', 'famrel', 'Dalc', 'Walc', 'alcool'], dtype='object')"
      ]
     },
     "execution_count": 8,
     "metadata": {},
     "output_type": "execute_result"
    }
   ],
   "source": [
    "# Colunas originais\n",
    "data.columns"
   ]
  },
  {
   "cell_type": "code",
   "execution_count": 9,
   "id": "outer-oxford",
   "metadata": {},
   "outputs": [],
   "source": [
    "# Removendo as colunas Dalc e Walc, pois já foi feito o cálculo, e renomeando as colunas\n",
    "prettydata = data.drop([\"Dalc\", \"Walc\"], axis=1)"
   ]
  },
  {
   "cell_type": "code",
   "execution_count": 10,
   "id": "revolutionary-charleston",
   "metadata": {},
   "outputs": [],
   "source": [
    "prettydata.columns = [\"gen\", \"age\", \"q_rel\", \"alcool\"]"
   ]
  },
  {
   "cell_type": "code",
   "execution_count": 11,
   "id": "accomplished-remains",
   "metadata": {},
   "outputs": [
    {
     "data": {
      "text/html": [
       "<div>\n",
       "<style scoped>\n",
       "    .dataframe tbody tr th:only-of-type {\n",
       "        vertical-align: middle;\n",
       "    }\n",
       "\n",
       "    .dataframe tbody tr th {\n",
       "        vertical-align: top;\n",
       "    }\n",
       "\n",
       "    .dataframe thead th {\n",
       "        text-align: right;\n",
       "    }\n",
       "</style>\n",
       "<table border=\"1\" class=\"dataframe\">\n",
       "  <thead>\n",
       "    <tr style=\"text-align: right;\">\n",
       "      <th></th>\n",
       "      <th>gen</th>\n",
       "      <th>age</th>\n",
       "      <th>q_rel</th>\n",
       "      <th>alcool</th>\n",
       "    </tr>\n",
       "  </thead>\n",
       "  <tbody>\n",
       "    <tr>\n",
       "      <th>0</th>\n",
       "      <td>1</td>\n",
       "      <td>18</td>\n",
       "      <td>4</td>\n",
       "      <td>1.000000</td>\n",
       "    </tr>\n",
       "    <tr>\n",
       "      <th>1</th>\n",
       "      <td>1</td>\n",
       "      <td>17</td>\n",
       "      <td>5</td>\n",
       "      <td>1.000000</td>\n",
       "    </tr>\n",
       "    <tr>\n",
       "      <th>2</th>\n",
       "      <td>1</td>\n",
       "      <td>15</td>\n",
       "      <td>4</td>\n",
       "      <td>2.285714</td>\n",
       "    </tr>\n",
       "    <tr>\n",
       "      <th>3</th>\n",
       "      <td>1</td>\n",
       "      <td>15</td>\n",
       "      <td>3</td>\n",
       "      <td>1.000000</td>\n",
       "    </tr>\n",
       "    <tr>\n",
       "      <th>4</th>\n",
       "      <td>1</td>\n",
       "      <td>16</td>\n",
       "      <td>4</td>\n",
       "      <td>1.285714</td>\n",
       "    </tr>\n",
       "    <tr>\n",
       "      <th>...</th>\n",
       "      <td>...</td>\n",
       "      <td>...</td>\n",
       "      <td>...</td>\n",
       "      <td>...</td>\n",
       "    </tr>\n",
       "    <tr>\n",
       "      <th>1039</th>\n",
       "      <td>1</td>\n",
       "      <td>19</td>\n",
       "      <td>5</td>\n",
       "      <td>1.285714</td>\n",
       "    </tr>\n",
       "    <tr>\n",
       "      <th>1040</th>\n",
       "      <td>1</td>\n",
       "      <td>18</td>\n",
       "      <td>4</td>\n",
       "      <td>1.000000</td>\n",
       "    </tr>\n",
       "    <tr>\n",
       "      <th>1041</th>\n",
       "      <td>1</td>\n",
       "      <td>18</td>\n",
       "      <td>1</td>\n",
       "      <td>1.000000</td>\n",
       "    </tr>\n",
       "    <tr>\n",
       "      <th>1042</th>\n",
       "      <td>0</td>\n",
       "      <td>17</td>\n",
       "      <td>2</td>\n",
       "      <td>3.285714</td>\n",
       "    </tr>\n",
       "    <tr>\n",
       "      <th>1043</th>\n",
       "      <td>0</td>\n",
       "      <td>18</td>\n",
       "      <td>4</td>\n",
       "      <td>3.285714</td>\n",
       "    </tr>\n",
       "  </tbody>\n",
       "</table>\n",
       "<p>1044 rows × 4 columns</p>\n",
       "</div>"
      ],
      "text/plain": [
       "      gen  age  q_rel    alcool\n",
       "0       1   18      4  1.000000\n",
       "1       1   17      5  1.000000\n",
       "2       1   15      4  2.285714\n",
       "3       1   15      3  1.000000\n",
       "4       1   16      4  1.285714\n",
       "...   ...  ...    ...       ...\n",
       "1039    1   19      5  1.285714\n",
       "1040    1   18      4  1.000000\n",
       "1041    1   18      1  1.000000\n",
       "1042    0   17      2  3.285714\n",
       "1043    0   18      4  3.285714\n",
       "\n",
       "[1044 rows x 4 columns]"
      ]
     },
     "execution_count": 11,
     "metadata": {},
     "output_type": "execute_result"
    }
   ],
   "source": [
    "prettydata"
   ]
  },
  {
   "cell_type": "code",
   "execution_count": 12,
   "id": "rotary-calcium",
   "metadata": {},
   "outputs": [],
   "source": [
    "X = prettydata[[\"gen\", \"age\", \"q_rel\"]]\n",
    "Y = prettydata[\"alcool\"]"
   ]
  },
  {
   "cell_type": "code",
   "execution_count": 13,
   "id": "multiple-economy",
   "metadata": {},
   "outputs": [
    {
     "data": {
      "text/html": [
       "<table class=\"simpletable\">\n",
       "<caption>OLS Regression Results</caption>\n",
       "<tr>\n",
       "  <th>Dep. Variable:</th>         <td>alcool</td>      <th>  R-squared (uncentered):</th>      <td>   0.805</td>\n",
       "</tr>\n",
       "<tr>\n",
       "  <th>Model:</th>                   <td>OLS</td>       <th>  Adj. R-squared (uncentered):</th> <td>   0.804</td>\n",
       "</tr>\n",
       "<tr>\n",
       "  <th>Method:</th>             <td>Least Squares</td>  <th>  F-statistic:       </th>          <td>   1428.</td>\n",
       "</tr>\n",
       "<tr>\n",
       "  <th>Date:</th>             <td>Wed, 05 May 2021</td> <th>  Prob (F-statistic):</th>           <td>  0.00</td> \n",
       "</tr>\n",
       "<tr>\n",
       "  <th>Time:</th>                 <td>08:25:43</td>     <th>  Log-Likelihood:    </th>          <td> -1328.5</td>\n",
       "</tr>\n",
       "<tr>\n",
       "  <th>No. Observations:</th>      <td>  1044</td>      <th>  AIC:               </th>          <td>   2663.</td>\n",
       "</tr>\n",
       "<tr>\n",
       "  <th>Df Residuals:</th>          <td>  1041</td>      <th>  BIC:               </th>          <td>   2678.</td>\n",
       "</tr>\n",
       "<tr>\n",
       "  <th>Df Model:</th>              <td>     3</td>      <th>                     </th>              <td> </td>   \n",
       "</tr>\n",
       "<tr>\n",
       "  <th>Covariance Type:</th>      <td>nonrobust</td>    <th>                     </th>              <td> </td>   \n",
       "</tr>\n",
       "</table>\n",
       "<table class=\"simpletable\">\n",
       "<tr>\n",
       "    <td></td>       <th>coef</th>     <th>std err</th>      <th>t</th>      <th>P>|t|</th>  <th>[0.025</th>    <th>0.975]</th>  \n",
       "</tr>\n",
       "<tr>\n",
       "  <th>gen</th>   <td>   -0.6071</td> <td>    0.054</td> <td>  -11.224</td> <td> 0.000</td> <td>   -0.713</td> <td>   -0.501</td>\n",
       "</tr>\n",
       "<tr>\n",
       "  <th>age</th>   <td>    0.1473</td> <td>    0.007</td> <td>   21.116</td> <td> 0.000</td> <td>    0.134</td> <td>    0.161</td>\n",
       "</tr>\n",
       "<tr>\n",
       "  <th>q_rel</th> <td>   -0.1026</td> <td>    0.027</td> <td>   -3.732</td> <td> 0.000</td> <td>   -0.157</td> <td>   -0.049</td>\n",
       "</tr>\n",
       "</table>\n",
       "<table class=\"simpletable\">\n",
       "<tr>\n",
       "  <th>Omnibus:</th>       <td>252.165</td> <th>  Durbin-Watson:     </th> <td>   1.895</td> \n",
       "</tr>\n",
       "<tr>\n",
       "  <th>Prob(Omnibus):</th> <td> 0.000</td>  <th>  Jarque-Bera (JB):  </th> <td> 517.682</td> \n",
       "</tr>\n",
       "<tr>\n",
       "  <th>Skew:</th>          <td> 1.375</td>  <th>  Prob(JB):          </th> <td>3.86e-113</td>\n",
       "</tr>\n",
       "<tr>\n",
       "  <th>Kurtosis:</th>      <td> 5.082</td>  <th>  Cond. No.          </th> <td>    34.9</td> \n",
       "</tr>\n",
       "</table><br/><br/>Notes:<br/>[1] R² is computed without centering (uncentered) since the model does not contain a constant.<br/>[2] Standard Errors assume that the covariance matrix of the errors is correctly specified."
      ],
      "text/plain": [
       "<class 'statsmodels.iolib.summary.Summary'>\n",
       "\"\"\"\n",
       "                                 OLS Regression Results                                \n",
       "=======================================================================================\n",
       "Dep. Variable:                 alcool   R-squared (uncentered):                   0.805\n",
       "Model:                            OLS   Adj. R-squared (uncentered):              0.804\n",
       "Method:                 Least Squares   F-statistic:                              1428.\n",
       "Date:                Wed, 05 May 2021   Prob (F-statistic):                        0.00\n",
       "Time:                        08:25:43   Log-Likelihood:                         -1328.5\n",
       "No. Observations:                1044   AIC:                                      2663.\n",
       "Df Residuals:                    1041   BIC:                                      2678.\n",
       "Df Model:                           3                                                  \n",
       "Covariance Type:            nonrobust                                                  \n",
       "==============================================================================\n",
       "                 coef    std err          t      P>|t|      [0.025      0.975]\n",
       "------------------------------------------------------------------------------\n",
       "gen           -0.6071      0.054    -11.224      0.000      -0.713      -0.501\n",
       "age            0.1473      0.007     21.116      0.000       0.134       0.161\n",
       "q_rel         -0.1026      0.027     -3.732      0.000      -0.157      -0.049\n",
       "==============================================================================\n",
       "Omnibus:                      252.165   Durbin-Watson:                   1.895\n",
       "Prob(Omnibus):                  0.000   Jarque-Bera (JB):              517.682\n",
       "Skew:                           1.375   Prob(JB):                    3.86e-113\n",
       "Kurtosis:                       5.082   Cond. No.                         34.9\n",
       "==============================================================================\n",
       "\n",
       "Notes:\n",
       "[1] R² is computed without centering (uncentered) since the model does not contain a constant.\n",
       "[2] Standard Errors assume that the covariance matrix of the errors is correctly specified.\n",
       "\"\"\""
      ]
     },
     "execution_count": 13,
     "metadata": {},
     "output_type": "execute_result"
    }
   ],
   "source": [
    "model = sm.OLS(Y, X).fit()\n",
    "predictions = model.predict(X) \n",
    "\n",
    "model.summary()"
   ]
  },
  {
   "cell_type": "code",
   "execution_count": 15,
   "id": "superb-temple",
   "metadata": {},
   "outputs": [
    {
     "data": {
      "text/plain": [
       "0.00020034216714401721"
      ]
     },
     "execution_count": 15,
     "metadata": {},
     "output_type": "execute_result"
    }
   ],
   "source": [
    "model.pvalues[\"q_rel\"]"
   ]
  },
  {
   "cell_type": "code",
   "execution_count": null,
   "id": "measured-disposition",
   "metadata": {},
   "outputs": [],
   "source": []
  }
 ],
 "metadata": {
  "kernelspec": {
   "display_name": "Python 3",
   "language": "python",
   "name": "python3"
  },
  "language_info": {
   "codemirror_mode": {
    "name": "ipython",
    "version": 3
   },
   "file_extension": ".py",
   "mimetype": "text/x-python",
   "name": "python",
   "nbconvert_exporter": "python",
   "pygments_lexer": "ipython3",
   "version": "3.9.4"
  }
 },
 "nbformat": 4,
 "nbformat_minor": 5
}
